{
 "cells": [
  {
   "cell_type": "code",
   "execution_count": 1,
   "id": "57e63eb9",
   "metadata": {},
   "outputs": [],
   "source": [
    "import pandas as pd"
   ]
  },
  {
   "cell_type": "code",
   "execution_count": 2,
   "id": "2cf72f91",
   "metadata": {},
   "outputs": [],
   "source": [
    "df = pd.read_csv(\"data/the_data.csv\")"
   ]
  },
  {
   "cell_type": "code",
<<<<<<< HEAD
   "execution_count": 6,
=======
   "execution_count": 3,
>>>>>>> fbb20550b00639d3ce11a9d670e8a17509e51dd5
   "id": "fe3466f8",
   "metadata": {},
   "outputs": [
    {
     "data": {
      "text/html": [
       "<div>\n",
       "<style scoped>\n",
       "    .dataframe tbody tr th:only-of-type {\n",
       "        vertical-align: middle;\n",
       "    }\n",
       "\n",
       "    .dataframe tbody tr th {\n",
       "        vertical-align: top;\n",
       "    }\n",
       "\n",
       "    .dataframe thead th {\n",
       "        text-align: right;\n",
       "    }\n",
       "</style>\n",
       "<table border=\"1\" class=\"dataframe\">\n",
       "  <thead>\n",
       "    <tr style=\"text-align: right;\">\n",
       "      <th></th>\n",
<<<<<<< HEAD
=======
       "      <th>Unnamed: 0</th>\n",
>>>>>>> fbb20550b00639d3ce11a9d670e8a17509e51dd5
       "      <th>book_authors</th>\n",
       "      <th>book_desc</th>\n",
       "      <th>book_title</th>\n",
       "      <th>genres</th>\n",
       "      <th>image_url</th>\n",
<<<<<<< HEAD
       "      <th>combined_features</th>\n",
=======
       "      <th>book_desc_filt</th>\n",
>>>>>>> fbb20550b00639d3ce11a9d670e8a17509e51dd5
       "    </tr>\n",
       "  </thead>\n",
       "  <tbody>\n",
       "    <tr>\n",
       "      <th>0</th>\n",
<<<<<<< HEAD
=======
       "      <td>0</td>\n",
>>>>>>> fbb20550b00639d3ce11a9d670e8a17509e51dd5
       "      <td>['Suzanne Collins']</td>\n",
       "      <td>winning will make you famous. losing means cer...</td>\n",
       "      <td>The Hunger Games</td>\n",
       "      <td>youngadult fiction sciencefiction dystopia fan...</td>\n",
       "      <td>https://images.gr-assets.com/books/1447303603l...</td>\n",
<<<<<<< HEAD
       "      <td>youngadult fiction sciencefiction dystopia fan...</td>\n",
       "    </tr>\n",
       "    <tr>\n",
       "      <th>1</th>\n",
       "      <td>['J.K. Rowling', 'Mary GrandPré']</td>\n",
       "      <td>there is a door at the end of a silent corrido...</td>\n",
       "      <td>Harry Potter and the Order of the Phoenix</td>\n",
       "      <td>fantasy youngadult fiction fantasy youngadult ...</td>\n",
       "      <td>https://images.gr-assets.com/books/1255614970l...</td>\n",
       "      <td>fantasy youngadult fiction fantasy youngadult ...</td>\n",
       "    </tr>\n",
       "    <tr>\n",
       "      <th>2</th>\n",
=======
       "      <td>win make famous . lose mean certain death.th n...</td>\n",
       "    </tr>\n",
       "    <tr>\n",
       "      <th>1</th>\n",
       "      <td>1</td>\n",
       "      <td>['J.K. Rowling', 'Mary GrandPré']</td>\n",
       "      <td>there is a door at the end of a silent corrido...</td>\n",
       "      <td>Harry Potter and the Order of the Phoenix</td>\n",
       "      <td>fantasy youngadult fiction</td>\n",
       "      <td>https://images.gr-assets.com/books/1255614970l...</td>\n",
       "      <td>door end silent corridor . ’ haunt harri pottt...</td>\n",
       "    </tr>\n",
       "    <tr>\n",
       "      <th>2</th>\n",
       "      <td>2</td>\n",
>>>>>>> fbb20550b00639d3ce11a9d670e8a17509e51dd5
       "      <td>['Harper Lee']</td>\n",
       "      <td>the unforgettable novel of a childhood in a sl...</td>\n",
       "      <td>To Kill a Mockingbird</td>\n",
       "      <td>classics fiction historical historicalfiction ...</td>\n",
       "      <td>https://images.gr-assets.com/books/1361975680l...</td>\n",
<<<<<<< HEAD
       "      <td>classics fiction historical historicalfiction ...</td>\n",
       "    </tr>\n",
       "    <tr>\n",
       "      <th>3</th>\n",
=======
       "      <td>unforgett novel childhood sleepi southern town...</td>\n",
       "    </tr>\n",
       "    <tr>\n",
       "      <th>3</th>\n",
       "      <td>3</td>\n",
>>>>>>> fbb20550b00639d3ce11a9d670e8a17509e51dd5
       "      <td>['Stephenie Meyer']</td>\n",
       "      <td>about three things i was absolutely positive.f...</td>\n",
       "      <td>Twilight</td>\n",
       "      <td>youngadult fantasy romance paranormal vampires...</td>\n",
       "      <td>https://images.gr-assets.com/books/1361039443l...</td>\n",
<<<<<<< HEAD
       "      <td>youngadult fantasy romance paranormal vampires...</td>\n",
       "    </tr>\n",
       "    <tr>\n",
       "      <th>4</th>\n",
=======
       "      <td>three thing absolut positive.first , edward va...</td>\n",
       "    </tr>\n",
       "    <tr>\n",
       "      <th>4</th>\n",
       "      <td>4</td>\n",
>>>>>>> fbb20550b00639d3ce11a9d670e8a17509e51dd5
       "      <td>['Markus Zusak']</td>\n",
       "      <td>trying to make sense of the horrors of world w...</td>\n",
       "      <td>The Book Thief</td>\n",
       "      <td>historical historicalfiction fiction youngadult</td>\n",
       "      <td>https://images.gr-assets.com/books/1522157426l...</td>\n",
<<<<<<< HEAD
       "      <td>historical historicalfiction fiction youngadul...</td>\n",
=======
       "      <td>tri make sens horror world war ii , death rela...</td>\n",
>>>>>>> fbb20550b00639d3ce11a9d670e8a17509e51dd5
       "    </tr>\n",
       "  </tbody>\n",
       "</table>\n",
       "</div>"
      ],
      "text/plain": [
<<<<<<< HEAD
       "                        book_authors  \\\n",
       "0                ['Suzanne Collins']   \n",
       "1  ['J.K. Rowling', 'Mary GrandPré']   \n",
       "2                     ['Harper Lee']   \n",
       "3                ['Stephenie Meyer']   \n",
       "4                   ['Markus Zusak']   \n",
=======
       "   Unnamed: 0                       book_authors  \\\n",
       "0           0                ['Suzanne Collins']   \n",
       "1           1  ['J.K. Rowling', 'Mary GrandPré']   \n",
       "2           2                     ['Harper Lee']   \n",
       "3           3                ['Stephenie Meyer']   \n",
       "4           4                   ['Markus Zusak']   \n",
>>>>>>> fbb20550b00639d3ce11a9d670e8a17509e51dd5
       "\n",
       "                                           book_desc  \\\n",
       "0  winning will make you famous. losing means cer...   \n",
       "1  there is a door at the end of a silent corrido...   \n",
       "2  the unforgettable novel of a childhood in a sl...   \n",
       "3  about three things i was absolutely positive.f...   \n",
       "4  trying to make sense of the horrors of world w...   \n",
       "\n",
       "                                  book_title  \\\n",
       "0                           The Hunger Games   \n",
       "1  Harry Potter and the Order of the Phoenix   \n",
       "2                      To Kill a Mockingbird   \n",
       "3                                   Twilight   \n",
       "4                             The Book Thief   \n",
       "\n",
       "                                              genres  \\\n",
       "0  youngadult fiction sciencefiction dystopia fan...   \n",
<<<<<<< HEAD
       "1  fantasy youngadult fiction fantasy youngadult ...   \n",
       "2  classics fiction historical historicalfiction ...   \n",
       "3  youngadult fantasy romance paranormal vampires...   \n",
       "4   historical historicalfiction fiction youngadult    \n",
=======
       "1                         fantasy youngadult fiction   \n",
       "2  classics fiction historical historicalfiction ...   \n",
       "3  youngadult fantasy romance paranormal vampires...   \n",
       "4    historical historicalfiction fiction youngadult   \n",
>>>>>>> fbb20550b00639d3ce11a9d670e8a17509e51dd5
       "\n",
       "                                           image_url  \\\n",
       "0  https://images.gr-assets.com/books/1447303603l...   \n",
       "1  https://images.gr-assets.com/books/1255614970l...   \n",
       "2  https://images.gr-assets.com/books/1361975680l...   \n",
       "3  https://images.gr-assets.com/books/1361039443l...   \n",
       "4  https://images.gr-assets.com/books/1522157426l...   \n",
       "\n",
<<<<<<< HEAD
       "                                   combined_features  \n",
       "0  youngadult fiction sciencefiction dystopia fan...  \n",
       "1  fantasy youngadult fiction fantasy youngadult ...  \n",
       "2  classics fiction historical historicalfiction ...  \n",
       "3  youngadult fantasy romance paranormal vampires...  \n",
       "4  historical historicalfiction fiction youngadul...  "
      ]
     },
     "execution_count": 6,
=======
       "                                      book_desc_filt  \n",
       "0  win make famous . lose mean certain death.th n...  \n",
       "1  door end silent corridor . ’ haunt harri pottt...  \n",
       "2  unforgett novel childhood sleepi southern town...  \n",
       "3  three thing absolut positive.first , edward va...  \n",
       "4  tri make sens horror world war ii , death rela...  "
      ]
     },
     "execution_count": 3,
>>>>>>> fbb20550b00639d3ce11a9d670e8a17509e51dd5
     "metadata": {},
     "output_type": "execute_result"
    }
   ],
   "source": [
    "df.head()"
   ]
  },
  {
   "cell_type": "code",
   "execution_count": 4,
<<<<<<< HEAD
   "id": "9e082cc6",
   "metadata": {},
   "outputs": [
    {
     "data": {
      "text/plain": [
       "'https://images.gr-assets.com/books/1447303603l/2767052.jpg'"
      ]
     },
     "execution_count": 4,
     "metadata": {},
     "output_type": "execute_result"
    }
   ],
   "source": [
    "df[\"image_url\"][0]"
=======
   "id": "853a3a87",
   "metadata": {},
   "outputs": [
    {
     "name": "stderr",
     "output_type": "stream",
     "text": [
      "/tmp/ipykernel_849/2474743883.py:2: SettingWithCopyWarning: \n",
      "A value is trying to be set on a copy of a slice from a DataFrame\n",
      "\n",
      "See the caveats in the documentation: https://pandas.pydata.org/pandas-docs/stable/user_guide/indexing.html#returning-a-view-versus-a-copy\n",
      "  df[\"genres\"][i] = (df[\"genres\"][i]+\" \")*int(len(df[\"book_desc_filt\"][i])*0.009)\n"
     ]
    }
   ],
   "source": [
    "for i in range(df.shape[0]):\n",
    "    df[\"genres\"][i] = (df[\"genres\"][i]+\" \")*int(len(df[\"book_desc_filt\"][i])*0.009)"
>>>>>>> fbb20550b00639d3ce11a9d670e8a17509e51dd5
   ]
  },
  {
   "cell_type": "code",
   "execution_count": 5,
<<<<<<< HEAD
=======
   "id": "6aff50f2",
   "metadata": {},
   "outputs": [],
   "source": [
    "df[\"combined_features\"] = df[\"genres\"] + [\"book_desc_filt\"]"
   ]
  },
  {
   "cell_type": "code",
   "execution_count": 6,
>>>>>>> fbb20550b00639d3ce11a9d670e8a17509e51dd5
   "id": "a3706f4b",
   "metadata": {},
   "outputs": [],
   "source": [
    "from sklearn.feature_extraction.text import TfidfVectorizer\n",
    "from sklearn.metrics.pairwise import cosine_similarity"
   ]
  },
  {
   "cell_type": "code",
<<<<<<< HEAD
   "execution_count": 6,
   "id": "54e68d35",
   "metadata": {},
   "outputs": [],
   "source": []
  },
  {
   "cell_type": "code",
   "execution_count": 6,
=======
   "execution_count": 7,
   "id": "54e68d35",
   "metadata": {},
   "outputs": [],
   "source": [
    "#df['genres_feature'] = ['genres_{}'.format(x) for x in df['genres']]"
   ]
  },
  {
   "cell_type": "code",
   "execution_count": 8,
>>>>>>> fbb20550b00639d3ce11a9d670e8a17509e51dd5
   "id": "0efa0081",
   "metadata": {},
   "outputs": [],
   "source": [
    "vectorizer = TfidfVectorizer()\n",
    "X = vectorizer.fit_transform(df[\"combined_features\"])"
   ]
  },
  {
   "cell_type": "code",
   "execution_count": null,
   "id": "e1d141b8",
   "metadata": {},
   "outputs": [],
   "source": []
  },
  {
   "cell_type": "code",
   "execution_count": null,
   "id": "6d188585",
   "metadata": {},
   "outputs": [],
   "source": []
  },
  {
   "cell_type": "code",
   "execution_count": null,
   "id": "ffc9b9b1",
   "metadata": {},
   "outputs": [],
   "source": []
  },
  {
   "cell_type": "code",
   "execution_count": null,
   "id": "f36f5ad9",
   "metadata": {},
   "outputs": [],
   "source": []
  },
  {
   "cell_type": "code",
<<<<<<< HEAD
   "execution_count": 7,
=======
   "execution_count": 9,
>>>>>>> fbb20550b00639d3ce11a9d670e8a17509e51dd5
   "id": "6168707c",
   "metadata": {},
   "outputs": [],
   "source": [
    "cosine_sim = cosine_similarity(X, X[0])"
   ]
  },
  {
   "cell_type": "code",
<<<<<<< HEAD
   "execution_count": 8,
=======
   "execution_count": 10,
>>>>>>> fbb20550b00639d3ce11a9d670e8a17509e51dd5
   "id": "671de92c",
   "metadata": {},
   "outputs": [
    {
     "data": {
      "text/plain": [
<<<<<<< HEAD
       "19610"
      ]
     },
     "execution_count": 8,
=======
       "253"
      ]
     },
     "execution_count": 10,
>>>>>>> fbb20550b00639d3ce11a9d670e8a17509e51dd5
     "metadata": {},
     "output_type": "execute_result"
    }
   ],
   "source": [
    "cosine_sim.flatten()[1:].argmax()"
   ]
  },
  {
   "cell_type": "code",
<<<<<<< HEAD
   "execution_count": 9,
=======
   "execution_count": 11,
>>>>>>> fbb20550b00639d3ce11a9d670e8a17509e51dd5
   "id": "ff6b8b65",
   "metadata": {},
   "outputs": [
    {
     "data": {
      "text/html": [
       "<div>\n",
       "<style scoped>\n",
       "    .dataframe tbody tr th:only-of-type {\n",
       "        vertical-align: middle;\n",
       "    }\n",
       "\n",
       "    .dataframe tbody tr th {\n",
       "        vertical-align: top;\n",
       "    }\n",
       "\n",
       "    .dataframe thead th {\n",
       "        text-align: right;\n",
       "    }\n",
       "</style>\n",
       "<table border=\"1\" class=\"dataframe\">\n",
       "  <thead>\n",
       "    <tr style=\"text-align: right;\">\n",
       "      <th></th>\n",
       "      <th>Unnamed: 0</th>\n",
       "      <th>book_authors</th>\n",
       "      <th>book_desc</th>\n",
       "      <th>book_title</th>\n",
       "      <th>genres</th>\n",
       "      <th>image_url</th>\n",
       "      <th>book_desc_filt</th>\n",
       "      <th>combined_features</th>\n",
       "    </tr>\n",
       "  </thead>\n",
       "  <tbody>\n",
       "    <tr>\n",
       "      <th>0</th>\n",
       "      <td>0</td>\n",
       "      <td>['Suzanne Collins']</td>\n",
       "      <td>winning will make you famous. losing means cer...</td>\n",
       "      <td>The Hunger Games</td>\n",
       "      <td>youngadult fiction sciencefiction dystopia fan...</td>\n",
       "      <td>https://images.gr-assets.com/books/1447303603l...</td>\n",
<<<<<<< HEAD
       "      <td>winning make famous . losing mean certain deat...</td>\n",
=======
       "      <td>win make famous . lose mean certain death.th n...</td>\n",
>>>>>>> fbb20550b00639d3ce11a9d670e8a17509e51dd5
       "      <td>youngadult fiction sciencefiction dystopia fan...</td>\n",
       "    </tr>\n",
       "    <tr>\n",
       "      <th>19610</th>\n",
       "      <td>19610</td>\n",
       "      <td>['Marilyn Harris']</td>\n",
       "      <td>he was the power and the fury of a dynasty. sh...</td>\n",
       "      <td>The Prince of Eden</td>\n",
       "      <td>historical historicalfiction romance historica...</td>\n",
       "      <td>https://images.gr-assets.com/books/1277768727l...</td>\n",
<<<<<<< HEAD
       "      <td>power fury dynasty . love could destroy himedw...</td>\n",
=======
       "      <td>power furi dynasti . love could destroy himedw...</td>\n",
>>>>>>> fbb20550b00639d3ce11a9d670e8a17509e51dd5
       "      <td>historical historicalfiction romance historica...</td>\n",
       "    </tr>\n",
       "  </tbody>\n",
       "</table>\n",
       "</div>"
      ],
      "text/plain": [
       "       Unnamed: 0         book_authors  \\\n",
       "0               0  ['Suzanne Collins']   \n",
       "19610       19610   ['Marilyn Harris']   \n",
       "\n",
       "                                               book_desc          book_title  \\\n",
       "0      winning will make you famous. losing means cer...    The Hunger Games   \n",
       "19610  he was the power and the fury of a dynasty. sh...  The Prince of Eden   \n",
       "\n",
       "                                                  genres  \\\n",
       "0      youngadult fiction sciencefiction dystopia fan...   \n",
       "19610  historical historicalfiction romance historica...   \n",
       "\n",
       "                                               image_url  \\\n",
       "0      https://images.gr-assets.com/books/1447303603l...   \n",
       "19610  https://images.gr-assets.com/books/1277768727l...   \n",
       "\n",
       "                                          book_desc_filt  \\\n",
<<<<<<< HEAD
       "0      winning make famous . losing mean certain deat...   \n",
       "19610  power fury dynasty . love could destroy himedw...   \n",
=======
       "0      win make famous . lose mean certain death.th n...   \n",
       "19610  power furi dynasti . love could destroy himedw...   \n",
>>>>>>> fbb20550b00639d3ce11a9d670e8a17509e51dd5
       "\n",
       "                                       combined_features  \n",
       "0      youngadult fiction sciencefiction dystopia fan...  \n",
       "19610  historical historicalfiction romance historica...  "
      ]
     },
<<<<<<< HEAD
     "execution_count": 9,
=======
     "execution_count": 11,
>>>>>>> fbb20550b00639d3ce11a9d670e8a17509e51dd5
     "metadata": {},
     "output_type": "execute_result"
    }
   ],
   "source": [
    "df.iloc[[0,19610]]"
   ]
  },
  {
   "cell_type": "code",
<<<<<<< HEAD
   "execution_count": 10,
=======
   "execution_count": 12,
>>>>>>> fbb20550b00639d3ce11a9d670e8a17509e51dd5
   "id": "6dc2b0c0",
   "metadata": {},
   "outputs": [
    {
     "data": {
      "text/plain": [
       "array(['The Guernsey Literary and Potato Peel Pie Society',\n",
       "       'Catching Fire', 'The Green Mile', 'The House of the Spirits',\n",
       "       'Delirium', \"The Girl Who Kicked the Hornet's Nest\",\n",
       "       'I Know This Much Is True', 'White Oleander', 'The Vampire Lestat',\n",
       "       'Beautiful Disaster', 'Paper Towns', 'Othello',\n",
       "       \"Lamb: The Gospel According to Biff, Christ's Childhood Pal\",\n",
       "       'The Once and Future King',\n",
       "       'Flow Down Like Silver: Hypatia of Alexandria', 'Misery',\n",
       "       'Into the Wild', 'King Lear', 'The Idiot', 'Speak',\n",
       "       \"Howl's Moving Castle\", 'Cinder', 'Neverwhere', 'The Historian',\n",
       "       \"Uncle Tom's Cabin\", 'Invisible Man', 'James and the Giant Peach',\n",
       "       'Inkheart', 'All Creatures Great and Small', 'Leaves of Grass',\n",
       "       'The Thirteenth Tale', 'Graceling', 'Candide',\n",
       "       'The Cider House Rules', 'Paradise Lost',\n",
       "       'The Things They Carried', 'Different Seasons',\n",
       "       'The Complete Sherlock Holmes, Vol 1', 'Heidi', 'Foundation',\n",
       "       \"Are You There God? It's Me, Margaret\", 'Walden', 'The Awakening',\n",
       "       'The Time Machine', 'The Secret History', \"Sophie's Choice\",\n",
       "       'City of Lost Souls', \"Sophie's World\", 'Norwegian Wood',\n",
       "       'The Prince of Tides'], dtype=object)"
      ]
     },
<<<<<<< HEAD
     "execution_count": 10,
=======
     "execution_count": 12,
>>>>>>> fbb20550b00639d3ce11a9d670e8a17509e51dd5
     "metadata": {},
     "output_type": "execute_result"
    }
   ],
   "source": [
    "df.book_title.unique()[250:300]"
   ]
  },
  {
   "cell_type": "code",
<<<<<<< HEAD
   "execution_count": 34,
=======
   "execution_count": 13,
>>>>>>> fbb20550b00639d3ce11a9d670e8a17509e51dd5
   "id": "728a4639",
   "metadata": {},
   "outputs": [],
   "source": [
<<<<<<< HEAD
    "libros = df[df[\"book_title\"] == \"The Well of Ascension\"]"
=======
    "libros = df[df[\"book_title\"] == \"Othello\"]"
>>>>>>> fbb20550b00639d3ce11a9d670e8a17509e51dd5
   ]
  },
  {
   "cell_type": "code",
<<<<<<< HEAD
   "execution_count": 35,
=======
   "execution_count": 14,
>>>>>>> fbb20550b00639d3ce11a9d670e8a17509e51dd5
   "id": "99dbcf0b",
   "metadata": {},
   "outputs": [
    {
     "data": {
      "text/html": [
       "<div>\n",
       "<style scoped>\n",
       "    .dataframe tbody tr th:only-of-type {\n",
       "        vertical-align: middle;\n",
       "    }\n",
       "\n",
       "    .dataframe tbody tr th {\n",
       "        vertical-align: top;\n",
       "    }\n",
       "\n",
       "    .dataframe thead th {\n",
       "        text-align: right;\n",
       "    }\n",
       "</style>\n",
       "<table border=\"1\" class=\"dataframe\">\n",
       "  <thead>\n",
       "    <tr style=\"text-align: right;\">\n",
       "      <th></th>\n",
       "      <th>Unnamed: 0</th>\n",
       "      <th>book_authors</th>\n",
       "      <th>book_desc</th>\n",
       "      <th>book_title</th>\n",
       "      <th>genres</th>\n",
       "      <th>image_url</th>\n",
       "      <th>book_desc_filt</th>\n",
       "      <th>combined_features</th>\n",
       "    </tr>\n",
       "  </thead>\n",
       "  <tbody>\n",
       "    <tr>\n",
<<<<<<< HEAD
       "      <th>977</th>\n",
       "      <td>977</td>\n",
       "      <td>['Brandon Sanderson']</td>\n",
       "      <td>vin, the street urchin who has grown into the ...</td>\n",
       "      <td>The Well of Ascension</td>\n",
       "      <td>fantasy fiction fantasy epicfantasy fantasy hi...</td>\n",
       "      <td>https://images.gr-assets.com/books/1480717596l...</td>\n",
       "      <td>vin , street urchin grown powerful mistborn la...</td>\n",
       "      <td>fantasy fiction fantasy epicfantasy fantasy hi...</td>\n",
       "    </tr>\n",
       "    <tr>\n",
       "      <th>10084</th>\n",
       "      <td>10084</td>\n",
       "      <td>['Brandon Sanderson']</td>\n",
       "      <td>they did the impossible, deposing the godlike ...</td>\n",
       "      <td>The Well of Ascension</td>\n",
       "      <td>fantasy fiction fantasy epicfantasy fantasy hi...</td>\n",
       "      <td>https://images.gr-assets.com/books/1388372651l...</td>\n",
       "      <td>impossible , deposing godlike whose brutal rul...</td>\n",
       "      <td>fantasy fiction fantasy epicfantasy fantasy hi...</td>\n",
=======
       "      <th>264</th>\n",
       "      <td>264</td>\n",
       "      <td>['William Shakespeare']</td>\n",
       "      <td>in othello, shakespeare creates a powerful dra...</td>\n",
       "      <td>Othello</td>\n",
       "      <td>classics plays drama fiction academic school c...</td>\n",
       "      <td>https://images.gr-assets.com/books/1459795105l...</td>\n",
       "      <td>othello , shakespear creat power drama marriag...</td>\n",
       "      <td>classics plays drama fiction academic school c...</td>\n",
       "    </tr>\n",
       "    <tr>\n",
       "      <th>45189</th>\n",
       "      <td>45189</td>\n",
       "      <td>['William Shakespeare']</td>\n",
       "      <td>in othello, shakespeare creates a powerful dra...</td>\n",
       "      <td>Othello</td>\n",
       "      <td>classics plays drama fiction academic school c...</td>\n",
       "      <td>https://images.gr-assets.com/books/1384802673l...</td>\n",
       "      <td>othello , shakespear creat power drama marriag...</td>\n",
       "      <td>classics plays drama fiction academic school c...</td>\n",
>>>>>>> fbb20550b00639d3ce11a9d670e8a17509e51dd5
       "    </tr>\n",
       "  </tbody>\n",
       "</table>\n",
       "</div>"
      ],
      "text/plain": [
<<<<<<< HEAD
       "       Unnamed: 0           book_authors  \\\n",
       "977           977  ['Brandon Sanderson']   \n",
       "10084       10084  ['Brandon Sanderson']   \n",
       "\n",
       "                                               book_desc  \\\n",
       "977    vin, the street urchin who has grown into the ...   \n",
       "10084  they did the impossible, deposing the godlike ...   \n",
       "\n",
       "                  book_title  \\\n",
       "977    The Well of Ascension   \n",
       "10084  The Well of Ascension   \n",
       "\n",
       "                                                  genres  \\\n",
       "977    fantasy fiction fantasy epicfantasy fantasy hi...   \n",
       "10084  fantasy fiction fantasy epicfantasy fantasy hi...   \n",
       "\n",
       "                                               image_url  \\\n",
       "977    https://images.gr-assets.com/books/1480717596l...   \n",
       "10084  https://images.gr-assets.com/books/1388372651l...   \n",
       "\n",
       "                                          book_desc_filt  \\\n",
       "977    vin , street urchin grown powerful mistborn la...   \n",
       "10084  impossible , deposing godlike whose brutal rul...   \n",
       "\n",
       "                                       combined_features  \n",
       "977    fantasy fiction fantasy epicfantasy fantasy hi...  \n",
       "10084  fantasy fiction fantasy epicfantasy fantasy hi...  "
      ]
     },
     "execution_count": 35,
=======
       "       Unnamed: 0             book_authors  \\\n",
       "264           264  ['William Shakespeare']   \n",
       "45189       45189  ['William Shakespeare']   \n",
       "\n",
       "                                               book_desc book_title  \\\n",
       "264    in othello, shakespeare creates a powerful dra...    Othello   \n",
       "45189  in othello, shakespeare creates a powerful dra...    Othello   \n",
       "\n",
       "                                                  genres  \\\n",
       "264    classics plays drama fiction academic school c...   \n",
       "45189  classics plays drama fiction academic school c...   \n",
       "\n",
       "                                               image_url  \\\n",
       "264    https://images.gr-assets.com/books/1459795105l...   \n",
       "45189  https://images.gr-assets.com/books/1384802673l...   \n",
       "\n",
       "                                          book_desc_filt  \\\n",
       "264    othello , shakespear creat power drama marriag...   \n",
       "45189  othello , shakespear creat power drama marriag...   \n",
       "\n",
       "                                       combined_features  \n",
       "264    classics plays drama fiction academic school c...  \n",
       "45189  classics plays drama fiction academic school c...  "
      ]
     },
     "execution_count": 14,
>>>>>>> fbb20550b00639d3ce11a9d670e8a17509e51dd5
     "metadata": {},
     "output_type": "execute_result"
    }
   ],
   "source": [
    "libros"
   ]
  },
  {
   "cell_type": "code",
<<<<<<< HEAD
   "execution_count": 36,
=======
   "execution_count": 15,
>>>>>>> fbb20550b00639d3ce11a9d670e8a17509e51dd5
   "id": "14220f33",
   "metadata": {},
   "outputs": [],
   "source": [
    "selected_books = vectorizer.transform(libros[\"combined_features\"])"
   ]
  },
  {
   "cell_type": "code",
<<<<<<< HEAD
   "execution_count": 37,
=======
   "execution_count": 16,
>>>>>>> fbb20550b00639d3ce11a9d670e8a17509e51dd5
   "id": "cf3dbee8",
   "metadata": {},
   "outputs": [],
   "source": [
    "cosine_sim = cosine_similarity(X, selected_books)"
   ]
  },
  {
   "cell_type": "code",
<<<<<<< HEAD
   "execution_count": 38,
=======
   "execution_count": 17,
>>>>>>> fbb20550b00639d3ce11a9d670e8a17509e51dd5
   "id": "a6703ade",
   "metadata": {},
   "outputs": [
    {
     "data": {
      "text/plain": [
       "(46016, 2)"
      ]
     },
<<<<<<< HEAD
     "execution_count": 38,
=======
     "execution_count": 17,
>>>>>>> fbb20550b00639d3ce11a9d670e8a17509e51dd5
     "metadata": {},
     "output_type": "execute_result"
    }
   ],
   "source": [
    "cosine_sim.shape"
   ]
  },
  {
   "cell_type": "code",
<<<<<<< HEAD
   "execution_count": 39,
=======
   "execution_count": 18,
>>>>>>> fbb20550b00639d3ce11a9d670e8a17509e51dd5
   "id": "8e5a8a9a",
   "metadata": {},
   "outputs": [],
   "source": [
    "recommend = df.copy()\n",
    "recommend[\"sim\"] = cosine_sim.sum(axis=-1)"
   ]
  },
  {
   "cell_type": "code",
<<<<<<< HEAD
   "execution_count": 40,
   "id": "ef13b76d",
   "metadata": {
    "scrolled": true
   },
=======
   "execution_count": 24,
   "id": "ef13b76d",
   "metadata": {},
>>>>>>> fbb20550b00639d3ce11a9d670e8a17509e51dd5
   "outputs": [
    {
     "name": "stderr",
     "output_type": "stream",
     "text": [
<<<<<<< HEAD
      "/tmp/ipykernel_429/410145515.py:1: UserWarning: Boolean Series key will be reindexed to match DataFrame index.\n",
      "  recommend.sort_values(\"sim\", ascending=False)[recommend[\"book_title\"]!=\"The Well of Ascension\"].drop_duplicates(subset=\"book_title\").head(15)\n"
=======
      "/tmp/ipykernel_849/3360549178.py:1: UserWarning: Boolean Series key will be reindexed to match DataFrame index.\n",
      "  recommend.sort_values(\"sim\", ascending=False)[recommend[\"book_title\"]!=\"Othello\"].drop_duplicates(subset=\"book_title\").head(15)\n"
>>>>>>> fbb20550b00639d3ce11a9d670e8a17509e51dd5
     ]
    },
    {
     "data": {
      "text/html": [
       "<div>\n",
       "<style scoped>\n",
       "    .dataframe tbody tr th:only-of-type {\n",
       "        vertical-align: middle;\n",
       "    }\n",
       "\n",
       "    .dataframe tbody tr th {\n",
       "        vertical-align: top;\n",
       "    }\n",
       "\n",
       "    .dataframe thead th {\n",
       "        text-align: right;\n",
       "    }\n",
       "</style>\n",
       "<table border=\"1\" class=\"dataframe\">\n",
       "  <thead>\n",
       "    <tr style=\"text-align: right;\">\n",
       "      <th></th>\n",
       "      <th>Unnamed: 0</th>\n",
       "      <th>book_authors</th>\n",
       "      <th>book_desc</th>\n",
       "      <th>book_title</th>\n",
       "      <th>genres</th>\n",
       "      <th>image_url</th>\n",
       "      <th>book_desc_filt</th>\n",
       "      <th>combined_features</th>\n",
       "      <th>sim</th>\n",
       "    </tr>\n",
       "  </thead>\n",
       "  <tbody>\n",
       "    <tr>\n",
<<<<<<< HEAD
       "      <th>17859</th>\n",
       "      <td>17859</td>\n",
       "      <td>['Brandon Sanderson']</td>\n",
       "      <td>who is the hero of ages?to end the final empir...</td>\n",
       "      <td>The Hero of Ages</td>\n",
       "      <td>fantasy fiction fantasy epicfantasy fantasy hi...</td>\n",
       "      <td>https://images.gr-assets.com/books/1514010274l...</td>\n",
       "      <td>hero age ? end final empire restore freedom , ...</td>\n",
       "      <td>fantasy fiction fantasy epicfantasy fantasy hi...</td>\n",
       "      <td>0.932644</td>\n",
       "    </tr>\n",
       "    <tr>\n",
       "      <th>754</th>\n",
       "      <td>754</td>\n",
       "      <td>['Brandon Sanderson']</td>\n",
       "      <td>from #1 new york times bestselling author bran...</td>\n",
       "      <td>Words of Radiance</td>\n",
       "      <td>fantasy fiction fantasy epicfantasy fantasy hi...</td>\n",
       "      <td>https://images.gr-assets.com/books/1507307927l...</td>\n",
       "      <td># 1 new york time bestselling author brandon s...</td>\n",
       "      <td>fantasy fiction fantasy epicfantasy fantasy hi...</td>\n",
       "      <td>0.829954</td>\n",
       "    </tr>\n",
       "    <tr>\n",
       "      <th>411</th>\n",
       "      <td>411</td>\n",
       "      <td>['Brandon Sanderson']</td>\n",
       "      <td>from #1 new york times bestselling author bran...</td>\n",
       "      <td>The Way of Kings</td>\n",
       "      <td>fantasy fiction fantasy epicfantasy fantasy hi...</td>\n",
       "      <td>https://images.gr-assets.com/books/1388184640l...</td>\n",
       "      <td># 1 new york time bestselling author brandon s...</td>\n",
       "      <td>fantasy fiction fantasy epicfantasy fantasy hi...</td>\n",
       "      <td>0.821018</td>\n",
       "    </tr>\n",
       "    <tr>\n",
       "      <th>5777</th>\n",
       "      <td>5777</td>\n",
       "      <td>['Brandon Sanderson']</td>\n",
       "      <td>the mists rule the night.the lord ruler owns t...</td>\n",
       "      <td>Mistborn</td>\n",
       "      <td>fantasy fiction fantasy epicfantasy fantasy hi...</td>\n",
       "      <td>https://images.gr-assets.com/books/1436376748l...</td>\n",
       "      <td>mist rule night.the lord ruler owns world.once...</td>\n",
       "      <td>fantasy fiction fantasy epicfantasy fantasy hi...</td>\n",
       "      <td>0.811745</td>\n",
       "    </tr>\n",
       "    <tr>\n",
       "      <th>24618</th>\n",
       "      <td>24618</td>\n",
       "      <td>['Lois McMaster Bujold']</td>\n",
       "      <td>in a dazzling display of invention and storyte...</td>\n",
       "      <td>The Curse of Chalion</td>\n",
       "      <td>fantasy fiction fantasy epicfantasy fantasy hi...</td>\n",
       "      <td>https://images.gr-assets.com/books/1255438977l...</td>\n",
       "      <td>dazzling display invention storytelling , inco...</td>\n",
       "      <td>fantasy fiction fantasy epicfantasy fantasy hi...</td>\n",
       "      <td>0.804379</td>\n",
       "    </tr>\n",
       "    <tr>\n",
       "      <th>3405</th>\n",
       "      <td>3405</td>\n",
       "      <td>['Steven Erikson']</td>\n",
       "      <td>the seven cities rebellion has been crushed. s...</td>\n",
       "      <td>The Bonehunters</td>\n",
       "      <td>fantasy fantasy epicfantasy fiction fantasy hi...</td>\n",
       "      <td>https://images.gr-assets.com/books/1399934281l...</td>\n",
       "      <td>seven city rebellion crushed . sha'ik dead . o...</td>\n",
       "      <td>fantasy fantasy epicfantasy fiction fantasy hi...</td>\n",
       "      <td>0.790085</td>\n",
       "    </tr>\n",
       "    <tr>\n",
       "      <th>9226</th>\n",
       "      <td>9226</td>\n",
       "      <td>['Kristen Britain']</td>\n",
       "      <td>karigan g'ladheon is a green rider--a seasoned...</td>\n",
       "      <td>Mirror Sight</td>\n",
       "      <td>fantasy fiction fantasy magic fantasy epicfant...</td>\n",
       "      <td>https://images.gr-assets.com/books/1380222695l...</td>\n",
       "      <td>karigan g'ladheon green rider -- seasoned memb...</td>\n",
       "      <td>fantasy fiction fantasy magic fantasy epicfant...</td>\n",
       "      <td>0.787004</td>\n",
       "    </tr>\n",
       "    <tr>\n",
       "      <th>25386</th>\n",
       "      <td>25386</td>\n",
       "      <td>['Sarah Ash']</td>\n",
       "      <td>combining the best of fantasy traditions with ...</td>\n",
       "      <td>Lord of Snow and Shadows</td>\n",
       "      <td>fantasy fiction fantasy dragons fantasy epicfa...</td>\n",
       "      <td>https://images.gr-assets.com/books/1386924794l...</td>\n",
       "      <td>combining best fantasy tradition unique vision...</td>\n",
       "      <td>fantasy fiction fantasy dragons fantasy epicfa...</td>\n",
       "      <td>0.780447</td>\n",
       "    </tr>\n",
       "    <tr>\n",
       "      <th>11066</th>\n",
       "      <td>11066</td>\n",
       "      <td>['Steven Erikson']</td>\n",
       "      <td>in war everyone loses. this brutal truth can b...</td>\n",
       "      <td>Dust of Dreams</td>\n",
       "      <td>fantasy fantasy epicfantasy fiction fantasy hi...</td>\n",
       "      <td>https://images.gr-assets.com/books/1388268201l...</td>\n",
       "      <td>war everyone loses . brutal truth seen eye eve...</td>\n",
       "      <td>fantasy fantasy epicfantasy fiction fantasy hi...</td>\n",
       "      <td>0.772516</td>\n",
       "    </tr>\n",
       "    <tr>\n",
       "      <th>25738</th>\n",
       "      <td>25738</td>\n",
       "      <td>['Brandon Sanderson']</td>\n",
       "      <td>brandon sanderson's epic fantasy trilogy overt...</td>\n",
       "      <td>The Final Empire</td>\n",
       "      <td>fantasy fiction fantasy epicfantasy fantasy hi...</td>\n",
       "      <td>https://images.gr-assets.com/books/1400264919l...</td>\n",
       "      <td>brandon sanderson 's epic fantasy trilogy over...</td>\n",
       "      <td>fantasy fiction fantasy epicfantasy fantasy hi...</td>\n",
       "      <td>0.770562</td>\n",
       "    </tr>\n",
       "    <tr>\n",
       "      <th>14771</th>\n",
       "      <td>14771</td>\n",
       "      <td>['Brian Staveley']</td>\n",
       "      <td>the circle is closing. the stakes are high. an...</td>\n",
       "      <td>The Emperor's Blades</td>\n",
       "      <td>fantasy fantasy epicfantasy fiction fantasy hi...</td>\n",
       "      <td>https://images.gr-assets.com/books/1369246817l...</td>\n",
       "      <td>circle closing . stake high . old truth live ....</td>\n",
       "      <td>fantasy fantasy epicfantasy fiction fantasy hi...</td>\n",
       "      <td>0.770451</td>\n",
       "    </tr>\n",
       "    <tr>\n",
       "      <th>5671</th>\n",
       "      <td>5671</td>\n",
       "      <td>['Katharine Kerr']</td>\n",
       "      <td>even as a young girl, jill was a favorite of t...</td>\n",
       "      <td>Daggerspell</td>\n",
       "      <td>fantasy fiction fantasy epicfantasy fantasy hi...</td>\n",
       "      <td>https://images.gr-assets.com/books/1326401538l...</td>\n",
       "      <td>even young girl , jill favorite magical , myst...</td>\n",
       "      <td>fantasy fiction fantasy epicfantasy fantasy hi...</td>\n",
       "      <td>0.768001</td>\n",
       "    </tr>\n",
       "    <tr>\n",
       "      <th>26950</th>\n",
       "      <td>26950</td>\n",
       "      <td>['Mark  Lawrence']</td>\n",
       "      <td>the red queen is old but the kings of the brok...</td>\n",
       "      <td>Prince of Fools</td>\n",
       "      <td>fantasy fiction fantasy epicfantasy fantasy hi...</td>\n",
       "      <td>https://images.gr-assets.com/books/1385072473l...</td>\n",
       "      <td>red queen old king broken empire dread like . ...</td>\n",
       "      <td>fantasy fiction fantasy epicfantasy fantasy hi...</td>\n",
       "      <td>0.764951</td>\n",
       "    </tr>\n",
       "    <tr>\n",
       "      <th>13445</th>\n",
       "      <td>13445</td>\n",
       "      <td>['Daniel Abraham']</td>\n",
       "      <td>\\r\\r\\r\\n\\r\\r\\r\\n\\r\\r\\r\\n\\r\\r\\r\\ndaniel abraham...</td>\n",
       "      <td>An Autumn War</td>\n",
       "      <td>fantasy fiction fantasy epicfantasy fantasy hi...</td>\n",
       "      <td>https://images.gr-assets.com/books/1442089886l...</td>\n",
       "      <td>daniel abraham delighted fantasy reader brilli...</td>\n",
       "      <td>fantasy fiction fantasy epicfantasy fantasy hi...</td>\n",
       "      <td>0.751016</td>\n",
       "    </tr>\n",
       "    <tr>\n",
       "      <th>4235</th>\n",
       "      <td>4235</td>\n",
       "      <td>['Steven Erikson']</td>\n",
       "      <td>all is not well in the letherii empire. rhulad...</td>\n",
       "      <td>Reaper's Gale</td>\n",
       "      <td>fantasy fantasy epicfantasy fiction fantasy hi...</td>\n",
       "      <td>https://images.gr-assets.com/books/1403011403l...</td>\n",
       "      <td>well letherii empire . rhulad sengar , emperor...</td>\n",
       "      <td>fantasy fantasy epicfantasy fiction fantasy hi...</td>\n",
       "      <td>0.750853</td>\n",
=======
       "      <th>560</th>\n",
       "      <td>560</td>\n",
       "      <td>['William Shakespeare', 'Roma Gill', 'فرنگیس ش...</td>\n",
       "      <td>the oxford school shakespeare has become the p...</td>\n",
       "      <td>Julius Caesar</td>\n",
       "      <td>classics plays fiction drama academic school c...</td>\n",
       "      <td>https://images.gr-assets.com/books/1354574927l...</td>\n",
       "      <td>oxford school shakespear becom prefer introduc...</td>\n",
       "      <td>classics plays fiction drama academic school c...</td>\n",
       "      <td>2.000000</td>\n",
       "    </tr>\n",
       "    <tr>\n",
       "      <th>39303</th>\n",
       "      <td>39303</td>\n",
       "      <td>['William Shakespeare']</td>\n",
       "      <td>undoubtedly the most famous of all of shakespe...</td>\n",
       "      <td>Hamlet</td>\n",
       "      <td>classics plays fiction drama academic school c...</td>\n",
       "      <td>https://images.gr-assets.com/books/1366931642l...</td>\n",
       "      <td>undoubt famous shakespear 's play , hamlet rem...</td>\n",
       "      <td>classics plays fiction drama academic school c...</td>\n",
       "      <td>2.000000</td>\n",
       "    </tr>\n",
       "    <tr>\n",
       "      <th>6008</th>\n",
       "      <td>6008</td>\n",
       "      <td>['Reginald Rose', 'David Mamet']</td>\n",
       "      <td>a landmark american drama that inspired a clas...</td>\n",
       "      <td>Twelve Angry Men</td>\n",
       "      <td>plays classics fiction drama academic school p...</td>\n",
       "      <td>https://images.gr-assets.com/books/1327910292l...</td>\n",
       "      <td>landmark american drama inspir classic film br...</td>\n",
       "      <td>plays classics fiction drama academic school p...</td>\n",
       "      <td>1.999999</td>\n",
       "    </tr>\n",
       "    <tr>\n",
       "      <th>27825</th>\n",
       "      <td>27825</td>\n",
       "      <td>['Sophocles', 'Robert Fagles', 'Bernard Knox']</td>\n",
       "      <td>the heroic greek dramas that have moved theate...</td>\n",
       "      <td>The Three Theban Plays: Antigone / Oedipus the...</td>\n",
       "      <td>classics plays drama fiction academic school c...</td>\n",
       "      <td>https://images.gr-assets.com/books/1520346697l...</td>\n",
       "      <td>heroic greek drama move theatergo reader sinc ...</td>\n",
       "      <td>classics plays drama fiction academic school c...</td>\n",
       "      <td>1.999998</td>\n",
       "    </tr>\n",
       "    <tr>\n",
       "      <th>19800</th>\n",
       "      <td>19800</td>\n",
       "      <td>['William Shakespeare', 'Cyrus Hoy']</td>\n",
       "      <td>\\r\\r\\r\\nthis revised norton critical edition o...</td>\n",
       "      <td>Hamlet (Norton Critical Edition)</td>\n",
       "      <td>classics plays fiction drama academic school c...</td>\n",
       "      <td>https://images.gr-assets.com/books/1348564043l...</td>\n",
       "      <td>revis norton critic edit one seri ' wide read ...</td>\n",
       "      <td>classics plays fiction drama academic school c...</td>\n",
       "      <td>1.999996</td>\n",
       "    </tr>\n",
       "    <tr>\n",
       "      <th>38857</th>\n",
       "      <td>38857</td>\n",
       "      <td>['William Shakespeare', 'Bernice W. Kliman', '...</td>\n",
       "      <td>george lyman kittredge’s insightful editions o...</td>\n",
       "      <td>The Tragedy of Hamlet (New Kitteredge Shakespe...</td>\n",
       "      <td>classics plays fiction drama academic school c...</td>\n",
       "      <td>https://images.gr-assets.com/books/1388540617l...</td>\n",
       "      <td>georg lyman kittredg ’ insight edit shakespear...</td>\n",
       "      <td>classics plays fiction drama academic school c...</td>\n",
       "      <td>1.999992</td>\n",
       "    </tr>\n",
       "    <tr>\n",
       "      <th>395</th>\n",
       "      <td>395</td>\n",
       "      <td>['Tennessee Williams']</td>\n",
       "      <td>the pulitzer prize and drama critics circle aw...</td>\n",
       "      <td>A Streetcar Named Desire</td>\n",
       "      <td>plays classics drama fiction academic school p...</td>\n",
       "      <td>https://images.gr-assets.com/books/1389153133l...</td>\n",
       "      <td>pulitz prize drama critic circl award win play...</td>\n",
       "      <td>plays classics drama fiction academic school p...</td>\n",
       "      <td>1.999961</td>\n",
       "    </tr>\n",
       "    <tr>\n",
       "      <th>41255</th>\n",
       "      <td>41255</td>\n",
       "      <td>['Lorraine Hansberry', 'Robert Nemiroff']</td>\n",
       "      <td>\"never before, in the entire history of the am...</td>\n",
       "      <td>A Raisin In The Sun</td>\n",
       "      <td>plays classics fiction drama academic school p...</td>\n",
       "      <td>https://images.gr-assets.com/books/1444920086l...</td>\n",
       "      <td>`` never , entir histori american theater , mu...</td>\n",
       "      <td>plays classics fiction drama academic school p...</td>\n",
       "      <td>1.999961</td>\n",
       "    </tr>\n",
       "    <tr>\n",
       "      <th>595</th>\n",
       "      <td>595</td>\n",
       "      <td>['Sophocles', 'J.E. Thomas']</td>\n",
       "      <td>\"...what man wins more happiness than just its...</td>\n",
       "      <td>Oedipus Rex</td>\n",
       "      <td>classics plays drama fiction academic school c...</td>\n",
       "      <td>https://images.gr-assets.com/books/1388182316l...</td>\n",
       "      <td>`` ... man win happi shape ruin shape collaps ...</td>\n",
       "      <td>classics plays drama fiction academic school c...</td>\n",
       "      <td>1.999961</td>\n",
       "    </tr>\n",
       "    <tr>\n",
       "      <th>3064</th>\n",
       "      <td>3064</td>\n",
       "      <td>['Lorraine Hansberry']</td>\n",
       "      <td>\"never before, in the entire history of the am...</td>\n",
       "      <td>A Raisin in the Sun</td>\n",
       "      <td>plays classics fiction drama academic school p...</td>\n",
       "      <td>https://images.gr-assets.com/books/1165522672l...</td>\n",
       "      <td>`` never , entir histori american theater , mu...</td>\n",
       "      <td>plays classics fiction drama academic school p...</td>\n",
       "      <td>1.999961</td>\n",
       "    </tr>\n",
       "    <tr>\n",
       "      <th>10423</th>\n",
       "      <td>10423</td>\n",
       "      <td>['Arthur Miller', 'Christopher Bigsby']</td>\n",
       "      <td>joe keller and herbert deever, partners in a m...</td>\n",
       "      <td>All My Sons</td>\n",
       "      <td>plays classics drama fiction academic school p...</td>\n",
       "      <td>https://images.gr-assets.com/books/1309210788l...</td>\n",
       "      <td>joe keller herbert deever , partner machin sho...</td>\n",
       "      <td>plays classics drama fiction academic school p...</td>\n",
       "      <td>1.999961</td>\n",
       "    </tr>\n",
       "    <tr>\n",
       "      <th>14832</th>\n",
       "      <td>14832</td>\n",
       "      <td>['William Shakespeare', 'Philip Edwards', 'Rob...</td>\n",
       "      <td>philip edwards deals succinctly with the exhau...</td>\n",
       "      <td>Hamlet, Prince of Denmark</td>\n",
       "      <td>classics plays fiction drama academic school c...</td>\n",
       "      <td>https://images.gr-assets.com/books/1347743546l...</td>\n",
       "      <td>philip edward deal succinct exhaust commentari...</td>\n",
       "      <td>classics plays fiction drama academic school c...</td>\n",
       "      <td>1.999696</td>\n",
       "    </tr>\n",
       "    <tr>\n",
       "      <th>28015</th>\n",
       "      <td>28015</td>\n",
       "      <td>['Willy Russell']</td>\n",
       "      <td>\\r\\r\\na liverpudlian west side story: twin bro...</td>\n",
       "      <td>Blood Brothers</td>\n",
       "      <td>plays academic school classics drama fiction p...</td>\n",
       "      <td>https://images.gr-assets.com/books/1387302455l...</td>\n",
       "      <td>liverpudlian west side stori : twin brother se...</td>\n",
       "      <td>plays academic school classics drama fiction p...</td>\n",
       "      <td>1.999696</td>\n",
       "    </tr>\n",
       "    <tr>\n",
       "      <th>22996</th>\n",
       "      <td>22996</td>\n",
       "      <td>['Willy Russell']</td>\n",
       "      <td>a liverpudlian \"west side story\": twin brother...</td>\n",
       "      <td>Blood Brothers (musical)</td>\n",
       "      <td>plays academic school classics drama fiction</td>\n",
       "      <td>https://images.gr-assets.com/books/1503207674l...</td>\n",
       "      <td>liverpudlian `` west side stori '' : twin brot...</td>\n",
       "      <td>plays academic school classics drama fiction b...</td>\n",
       "      <td>1.994659</td>\n",
       "    </tr>\n",
       "    <tr>\n",
       "      <th>1610</th>\n",
       "      <td>1610</td>\n",
       "      <td>['Thornton Wilder', 'Donald Margulies', 'Tappa...</td>\n",
       "      <td>our town was first produced and published in 1...</td>\n",
       "      <td>Our Town</td>\n",
       "      <td>plays classics drama fiction academic school</td>\n",
       "      <td>https://images.gr-assets.com/books/1442891231l...</td>\n",
       "      <td>town first produc publish 1938 wide acclaim . ...</td>\n",
       "      <td>plays classics drama fiction academic school b...</td>\n",
       "      <td>1.994659</td>\n",
>>>>>>> fbb20550b00639d3ce11a9d670e8a17509e51dd5
       "    </tr>\n",
       "  </tbody>\n",
       "</table>\n",
       "</div>"
      ],
      "text/plain": [
<<<<<<< HEAD
       "       Unnamed: 0              book_authors  \\\n",
       "17859       17859     ['Brandon Sanderson']   \n",
       "754           754     ['Brandon Sanderson']   \n",
       "411           411     ['Brandon Sanderson']   \n",
       "5777         5777     ['Brandon Sanderson']   \n",
       "24618       24618  ['Lois McMaster Bujold']   \n",
       "3405         3405        ['Steven Erikson']   \n",
       "9226         9226       ['Kristen Britain']   \n",
       "25386       25386             ['Sarah Ash']   \n",
       "11066       11066        ['Steven Erikson']   \n",
       "25738       25738     ['Brandon Sanderson']   \n",
       "14771       14771        ['Brian Staveley']   \n",
       "5671         5671        ['Katharine Kerr']   \n",
       "26950       26950        ['Mark  Lawrence']   \n",
       "13445       13445        ['Daniel Abraham']   \n",
       "4235         4235        ['Steven Erikson']   \n",
       "\n",
       "                                               book_desc  \\\n",
       "17859  who is the hero of ages?to end the final empir...   \n",
       "754    from #1 new york times bestselling author bran...   \n",
       "411    from #1 new york times bestselling author bran...   \n",
       "5777   the mists rule the night.the lord ruler owns t...   \n",
       "24618  in a dazzling display of invention and storyte...   \n",
       "3405   the seven cities rebellion has been crushed. s...   \n",
       "9226   karigan g'ladheon is a green rider--a seasoned...   \n",
       "25386  combining the best of fantasy traditions with ...   \n",
       "11066  in war everyone loses. this brutal truth can b...   \n",
       "25738  brandon sanderson's epic fantasy trilogy overt...   \n",
       "14771  the circle is closing. the stakes are high. an...   \n",
       "5671   even as a young girl, jill was a favorite of t...   \n",
       "26950  the red queen is old but the kings of the brok...   \n",
       "13445  \\r\\r\\r\\n\\r\\r\\r\\n\\r\\r\\r\\n\\r\\r\\r\\ndaniel abraham...   \n",
       "4235   all is not well in the letherii empire. rhulad...   \n",
       "\n",
       "                     book_title  \\\n",
       "17859          The Hero of Ages   \n",
       "754           Words of Radiance   \n",
       "411            The Way of Kings   \n",
       "5777                   Mistborn   \n",
       "24618      The Curse of Chalion   \n",
       "3405            The Bonehunters   \n",
       "9226               Mirror Sight   \n",
       "25386  Lord of Snow and Shadows   \n",
       "11066            Dust of Dreams   \n",
       "25738          The Final Empire   \n",
       "14771      The Emperor's Blades   \n",
       "5671                Daggerspell   \n",
       "26950           Prince of Fools   \n",
       "13445             An Autumn War   \n",
       "4235              Reaper's Gale   \n",
       "\n",
       "                                                  genres  \\\n",
       "17859  fantasy fiction fantasy epicfantasy fantasy hi...   \n",
       "754    fantasy fiction fantasy epicfantasy fantasy hi...   \n",
       "411    fantasy fiction fantasy epicfantasy fantasy hi...   \n",
       "5777   fantasy fiction fantasy epicfantasy fantasy hi...   \n",
       "24618  fantasy fiction fantasy epicfantasy fantasy hi...   \n",
       "3405   fantasy fantasy epicfantasy fiction fantasy hi...   \n",
       "9226   fantasy fiction fantasy magic fantasy epicfant...   \n",
       "25386  fantasy fiction fantasy dragons fantasy epicfa...   \n",
       "11066  fantasy fantasy epicfantasy fiction fantasy hi...   \n",
       "25738  fantasy fiction fantasy epicfantasy fantasy hi...   \n",
       "14771  fantasy fantasy epicfantasy fiction fantasy hi...   \n",
       "5671   fantasy fiction fantasy epicfantasy fantasy hi...   \n",
       "26950  fantasy fiction fantasy epicfantasy fantasy hi...   \n",
       "13445  fantasy fiction fantasy epicfantasy fantasy hi...   \n",
       "4235   fantasy fantasy epicfantasy fiction fantasy hi...   \n",
       "\n",
       "                                               image_url  \\\n",
       "17859  https://images.gr-assets.com/books/1514010274l...   \n",
       "754    https://images.gr-assets.com/books/1507307927l...   \n",
       "411    https://images.gr-assets.com/books/1388184640l...   \n",
       "5777   https://images.gr-assets.com/books/1436376748l...   \n",
       "24618  https://images.gr-assets.com/books/1255438977l...   \n",
       "3405   https://images.gr-assets.com/books/1399934281l...   \n",
       "9226   https://images.gr-assets.com/books/1380222695l...   \n",
       "25386  https://images.gr-assets.com/books/1386924794l...   \n",
       "11066  https://images.gr-assets.com/books/1388268201l...   \n",
       "25738  https://images.gr-assets.com/books/1400264919l...   \n",
       "14771  https://images.gr-assets.com/books/1369246817l...   \n",
       "5671   https://images.gr-assets.com/books/1326401538l...   \n",
       "26950  https://images.gr-assets.com/books/1385072473l...   \n",
       "13445  https://images.gr-assets.com/books/1442089886l...   \n",
       "4235   https://images.gr-assets.com/books/1403011403l...   \n",
       "\n",
       "                                          book_desc_filt  \\\n",
       "17859  hero age ? end final empire restore freedom , ...   \n",
       "754    # 1 new york time bestselling author brandon s...   \n",
       "411    # 1 new york time bestselling author brandon s...   \n",
       "5777   mist rule night.the lord ruler owns world.once...   \n",
       "24618  dazzling display invention storytelling , inco...   \n",
       "3405   seven city rebellion crushed . sha'ik dead . o...   \n",
       "9226   karigan g'ladheon green rider -- seasoned memb...   \n",
       "25386  combining best fantasy tradition unique vision...   \n",
       "11066  war everyone loses . brutal truth seen eye eve...   \n",
       "25738  brandon sanderson 's epic fantasy trilogy over...   \n",
       "14771  circle closing . stake high . old truth live ....   \n",
       "5671   even young girl , jill favorite magical , myst...   \n",
       "26950  red queen old king broken empire dread like . ...   \n",
       "13445  daniel abraham delighted fantasy reader brilli...   \n",
       "4235   well letherii empire . rhulad sengar , emperor...   \n",
       "\n",
       "                                       combined_features       sim  \n",
       "17859  fantasy fiction fantasy epicfantasy fantasy hi...  0.932644  \n",
       "754    fantasy fiction fantasy epicfantasy fantasy hi...  0.829954  \n",
       "411    fantasy fiction fantasy epicfantasy fantasy hi...  0.821018  \n",
       "5777   fantasy fiction fantasy epicfantasy fantasy hi...  0.811745  \n",
       "24618  fantasy fiction fantasy epicfantasy fantasy hi...  0.804379  \n",
       "3405   fantasy fantasy epicfantasy fiction fantasy hi...  0.790085  \n",
       "9226   fantasy fiction fantasy magic fantasy epicfant...  0.787004  \n",
       "25386  fantasy fiction fantasy dragons fantasy epicfa...  0.780447  \n",
       "11066  fantasy fantasy epicfantasy fiction fantasy hi...  0.772516  \n",
       "25738  fantasy fiction fantasy epicfantasy fantasy hi...  0.770562  \n",
       "14771  fantasy fantasy epicfantasy fiction fantasy hi...  0.770451  \n",
       "5671   fantasy fiction fantasy epicfantasy fantasy hi...  0.768001  \n",
       "26950  fantasy fiction fantasy epicfantasy fantasy hi...  0.764951  \n",
       "13445  fantasy fiction fantasy epicfantasy fantasy hi...  0.751016  \n",
       "4235   fantasy fantasy epicfantasy fiction fantasy hi...  0.750853  "
      ]
     },
     "execution_count": 40,
=======
       "       Unnamed: 0                                       book_authors  \\\n",
       "560           560  ['William Shakespeare', 'Roma Gill', 'فرنگیس ش...   \n",
       "39303       39303                            ['William Shakespeare']   \n",
       "6008         6008                   ['Reginald Rose', 'David Mamet']   \n",
       "27825       27825     ['Sophocles', 'Robert Fagles', 'Bernard Knox']   \n",
       "19800       19800               ['William Shakespeare', 'Cyrus Hoy']   \n",
       "38857       38857  ['William Shakespeare', 'Bernice W. Kliman', '...   \n",
       "395           395                             ['Tennessee Williams']   \n",
       "41255       41255          ['Lorraine Hansberry', 'Robert Nemiroff']   \n",
       "595           595                       ['Sophocles', 'J.E. Thomas']   \n",
       "3064         3064                             ['Lorraine Hansberry']   \n",
       "10423       10423            ['Arthur Miller', 'Christopher Bigsby']   \n",
       "14832       14832  ['William Shakespeare', 'Philip Edwards', 'Rob...   \n",
       "28015       28015                                  ['Willy Russell']   \n",
       "22996       22996                                  ['Willy Russell']   \n",
       "1610         1610  ['Thornton Wilder', 'Donald Margulies', 'Tappa...   \n",
       "\n",
       "                                               book_desc  \\\n",
       "560    the oxford school shakespeare has become the p...   \n",
       "39303  undoubtedly the most famous of all of shakespe...   \n",
       "6008   a landmark american drama that inspired a clas...   \n",
       "27825  the heroic greek dramas that have moved theate...   \n",
       "19800  \\r\\r\\r\\nthis revised norton critical edition o...   \n",
       "38857  george lyman kittredge’s insightful editions o...   \n",
       "395    the pulitzer prize and drama critics circle aw...   \n",
       "41255  \"never before, in the entire history of the am...   \n",
       "595    \"...what man wins more happiness than just its...   \n",
       "3064   \"never before, in the entire history of the am...   \n",
       "10423  joe keller and herbert deever, partners in a m...   \n",
       "14832  philip edwards deals succinctly with the exhau...   \n",
       "28015  \\r\\r\\na liverpudlian west side story: twin bro...   \n",
       "22996  a liverpudlian \"west side story\": twin brother...   \n",
       "1610   our town was first produced and published in 1...   \n",
       "\n",
       "                                              book_title  \\\n",
       "560                                        Julius Caesar   \n",
       "39303                                             Hamlet   \n",
       "6008                                    Twelve Angry Men   \n",
       "27825  The Three Theban Plays: Antigone / Oedipus the...   \n",
       "19800                   Hamlet (Norton Critical Edition)   \n",
       "38857  The Tragedy of Hamlet (New Kitteredge Shakespe...   \n",
       "395                             A Streetcar Named Desire   \n",
       "41255                                A Raisin In The Sun   \n",
       "595                                          Oedipus Rex   \n",
       "3064                                 A Raisin in the Sun   \n",
       "10423                                        All My Sons   \n",
       "14832                          Hamlet, Prince of Denmark   \n",
       "28015                                     Blood Brothers   \n",
       "22996                           Blood Brothers (musical)   \n",
       "1610                                            Our Town   \n",
       "\n",
       "                                                  genres  \\\n",
       "560    classics plays fiction drama academic school c...   \n",
       "39303  classics plays fiction drama academic school c...   \n",
       "6008   plays classics fiction drama academic school p...   \n",
       "27825  classics plays drama fiction academic school c...   \n",
       "19800  classics plays fiction drama academic school c...   \n",
       "38857  classics plays fiction drama academic school c...   \n",
       "395    plays classics drama fiction academic school p...   \n",
       "41255  plays classics fiction drama academic school p...   \n",
       "595    classics plays drama fiction academic school c...   \n",
       "3064   plays classics fiction drama academic school p...   \n",
       "10423  plays classics drama fiction academic school p...   \n",
       "14832  classics plays fiction drama academic school c...   \n",
       "28015  plays academic school classics drama fiction p...   \n",
       "22996      plays academic school classics drama fiction    \n",
       "1610       plays classics drama fiction academic school    \n",
       "\n",
       "                                               image_url  \\\n",
       "560    https://images.gr-assets.com/books/1354574927l...   \n",
       "39303  https://images.gr-assets.com/books/1366931642l...   \n",
       "6008   https://images.gr-assets.com/books/1327910292l...   \n",
       "27825  https://images.gr-assets.com/books/1520346697l...   \n",
       "19800  https://images.gr-assets.com/books/1348564043l...   \n",
       "38857  https://images.gr-assets.com/books/1388540617l...   \n",
       "395    https://images.gr-assets.com/books/1389153133l...   \n",
       "41255  https://images.gr-assets.com/books/1444920086l...   \n",
       "595    https://images.gr-assets.com/books/1388182316l...   \n",
       "3064   https://images.gr-assets.com/books/1165522672l...   \n",
       "10423  https://images.gr-assets.com/books/1309210788l...   \n",
       "14832  https://images.gr-assets.com/books/1347743546l...   \n",
       "28015  https://images.gr-assets.com/books/1387302455l...   \n",
       "22996  https://images.gr-assets.com/books/1503207674l...   \n",
       "1610   https://images.gr-assets.com/books/1442891231l...   \n",
       "\n",
       "                                          book_desc_filt  \\\n",
       "560    oxford school shakespear becom prefer introduc...   \n",
       "39303  undoubt famous shakespear 's play , hamlet rem...   \n",
       "6008   landmark american drama inspir classic film br...   \n",
       "27825  heroic greek drama move theatergo reader sinc ...   \n",
       "19800  revis norton critic edit one seri ' wide read ...   \n",
       "38857  georg lyman kittredg ’ insight edit shakespear...   \n",
       "395    pulitz prize drama critic circl award win play...   \n",
       "41255  `` never , entir histori american theater , mu...   \n",
       "595    `` ... man win happi shape ruin shape collaps ...   \n",
       "3064   `` never , entir histori american theater , mu...   \n",
       "10423  joe keller herbert deever , partner machin sho...   \n",
       "14832  philip edward deal succinct exhaust commentari...   \n",
       "28015  liverpudlian west side stori : twin brother se...   \n",
       "22996  liverpudlian `` west side stori '' : twin brot...   \n",
       "1610   town first produc publish 1938 wide acclaim . ...   \n",
       "\n",
       "                                       combined_features       sim  \n",
       "560    classics plays fiction drama academic school c...  2.000000  \n",
       "39303  classics plays fiction drama academic school c...  2.000000  \n",
       "6008   plays classics fiction drama academic school p...  1.999999  \n",
       "27825  classics plays drama fiction academic school c...  1.999998  \n",
       "19800  classics plays fiction drama academic school c...  1.999996  \n",
       "38857  classics plays fiction drama academic school c...  1.999992  \n",
       "395    plays classics drama fiction academic school p...  1.999961  \n",
       "41255  plays classics fiction drama academic school p...  1.999961  \n",
       "595    classics plays drama fiction academic school c...  1.999961  \n",
       "3064   plays classics fiction drama academic school p...  1.999961  \n",
       "10423  plays classics drama fiction academic school p...  1.999961  \n",
       "14832  classics plays fiction drama academic school c...  1.999696  \n",
       "28015  plays academic school classics drama fiction p...  1.999696  \n",
       "22996  plays academic school classics drama fiction b...  1.994659  \n",
       "1610   plays classics drama fiction academic school b...  1.994659  "
      ]
     },
     "execution_count": 24,
>>>>>>> fbb20550b00639d3ce11a9d670e8a17509e51dd5
     "metadata": {},
     "output_type": "execute_result"
    }
   ],
   "source": [
<<<<<<< HEAD
    "recommend.sort_values(\"sim\", ascending=False)[recommend[\"book_title\"]!=\"The Well of Ascension\"].drop_duplicates(subset=\"book_title\").head(15)"
=======
    "recommend.sort_values(\"sim\", ascending=False)[recommend[\"book_title\"]!=\"Othello\"].drop_duplicates(subset=\"book_title\").head(15)"
>>>>>>> fbb20550b00639d3ce11a9d670e8a17509e51dd5
   ]
  },
  {
   "cell_type": "code",
   "execution_count": null,
   "id": "b8281404",
   "metadata": {},
   "outputs": [],
   "source": []
  },
  {
   "cell_type": "code",
   "execution_count": null,
   "id": "667419ed",
   "metadata": {},
   "outputs": [],
   "source": []
<<<<<<< HEAD
  },
  {
   "cell_type": "code",
   "execution_count": null,
   "id": "867f9b0b",
   "metadata": {},
   "outputs": [],
   "source": []
  },
  {
   "cell_type": "code",
   "execution_count": null,
   "id": "4c3669c7",
   "metadata": {},
   "outputs": [],
   "source": []
=======
>>>>>>> fbb20550b00639d3ce11a9d670e8a17509e51dd5
  }
 ],
 "metadata": {
  "kernelspec": {
   "display_name": "Python 3 (ipykernel)",
   "language": "python",
   "name": "python3"
  },
  "language_info": {
   "codemirror_mode": {
    "name": "ipython",
    "version": 3
   },
   "file_extension": ".py",
   "mimetype": "text/x-python",
   "name": "python",
   "nbconvert_exporter": "python",
   "pygments_lexer": "ipython3",
   "version": "3.9.6"
  }
 },
 "nbformat": 4,
 "nbformat_minor": 5
}
