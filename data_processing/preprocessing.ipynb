{
 "cells": [
  {
   "cell_type": "code",
   "execution_count": 1,
   "id": "d0bded23",
   "metadata": {},
   "outputs": [],
   "source": [
    "import pandas as pd"
   ]
  },
  {
   "cell_type": "code",
<<<<<<< HEAD
   "execution_count": 2,
=======
   "execution_count": 40,
>>>>>>> fbb20550b00639d3ce11a9d670e8a17509e51dd5
   "id": "07e1a89b",
   "metadata": {},
   "outputs": [],
   "source": [
    "df = pd.read_csv(\"data/book_processed_data.csv\")"
   ]
  },
  {
   "cell_type": "code",
<<<<<<< HEAD
   "execution_count": 3,
=======
   "execution_count": 41,
>>>>>>> fbb20550b00639d3ce11a9d670e8a17509e51dd5
   "id": "be854e7f",
   "metadata": {},
   "outputs": [
    {
     "data": {
      "text/html": [
       "<div>\n",
       "<style scoped>\n",
       "    .dataframe tbody tr th:only-of-type {\n",
       "        vertical-align: middle;\n",
       "    }\n",
       "\n",
       "    .dataframe tbody tr th {\n",
       "        vertical-align: top;\n",
       "    }\n",
       "\n",
       "    .dataframe thead th {\n",
       "        text-align: right;\n",
       "    }\n",
       "</style>\n",
       "<table border=\"1\" class=\"dataframe\">\n",
       "  <thead>\n",
       "    <tr style=\"text-align: right;\">\n",
       "      <th></th>\n",
       "      <th>Unnamed: 0</th>\n",
       "      <th>book_authors</th>\n",
       "      <th>book_desc</th>\n",
       "      <th>book_pages</th>\n",
       "      <th>book_rating</th>\n",
       "      <th>book_rating_count</th>\n",
       "      <th>book_title</th>\n",
       "      <th>genres</th>\n",
       "      <th>image_url</th>\n",
       "    </tr>\n",
       "  </thead>\n",
       "  <tbody>\n",
       "    <tr>\n",
       "      <th>0</th>\n",
       "      <td>0</td>\n",
       "      <td>['Suzanne Collins']</td>\n",
       "      <td>Winning will make you famous. Losing means cer...</td>\n",
       "      <td>374.0</td>\n",
       "      <td>4.33</td>\n",
       "      <td>5519135</td>\n",
       "      <td>The Hunger Games</td>\n",
       "      <td>youngadult fiction sciencefiction dystopia fan...</td>\n",
       "      <td>https://images.gr-assets.com/books/1447303603l...</td>\n",
       "    </tr>\n",
       "    <tr>\n",
       "      <th>1</th>\n",
       "      <td>1</td>\n",
       "      <td>['J.K. Rowling', 'Mary GrandPré']</td>\n",
       "      <td>There is a door at the end of a silent corrido...</td>\n",
       "      <td>870.0</td>\n",
       "      <td>4.48</td>\n",
       "      <td>2041594</td>\n",
       "      <td>Harry Potter and the Order of the Phoenix</td>\n",
       "      <td>fantasy youngadult fiction</td>\n",
       "      <td>https://images.gr-assets.com/books/1255614970l...</td>\n",
       "    </tr>\n",
       "    <tr>\n",
       "      <th>2</th>\n",
       "      <td>2</td>\n",
       "      <td>['Harper Lee']</td>\n",
       "      <td>The unforgettable novel of a childhood in a sl...</td>\n",
       "      <td>324.0</td>\n",
       "      <td>4.27</td>\n",
       "      <td>3745197</td>\n",
       "      <td>To Kill a Mockingbird</td>\n",
       "      <td>classics fiction historical historicalfiction ...</td>\n",
       "      <td>https://images.gr-assets.com/books/1361975680l...</td>\n",
       "    </tr>\n",
       "    <tr>\n",
       "      <th>3</th>\n",
       "      <td>4</td>\n",
       "      <td>['Stephenie Meyer']</td>\n",
       "      <td>About three things I was absolutely positive.F...</td>\n",
       "      <td>498.0</td>\n",
       "      <td>3.58</td>\n",
       "      <td>4281268</td>\n",
       "      <td>Twilight</td>\n",
       "      <td>youngadult fantasy romance paranormal vampires...</td>\n",
       "      <td>https://images.gr-assets.com/books/1361039443l...</td>\n",
       "    </tr>\n",
       "    <tr>\n",
       "      <th>4</th>\n",
       "      <td>5</td>\n",
       "      <td>['Markus Zusak']</td>\n",
       "      <td>Trying to make sense of the horrors of World W...</td>\n",
       "      <td>552.0</td>\n",
       "      <td>4.36</td>\n",
       "      <td>1485632</td>\n",
       "      <td>The Book Thief</td>\n",
       "      <td>historical historicalfiction fiction youngadult</td>\n",
       "      <td>https://images.gr-assets.com/books/1522157426l...</td>\n",
       "    </tr>\n",
       "  </tbody>\n",
       "</table>\n",
       "</div>"
      ],
      "text/plain": [
       "   Unnamed: 0                       book_authors  \\\n",
       "0           0                ['Suzanne Collins']   \n",
       "1           1  ['J.K. Rowling', 'Mary GrandPré']   \n",
       "2           2                     ['Harper Lee']   \n",
       "3           4                ['Stephenie Meyer']   \n",
       "4           5                   ['Markus Zusak']   \n",
       "\n",
       "                                           book_desc  book_pages  book_rating  \\\n",
       "0  Winning will make you famous. Losing means cer...       374.0         4.33   \n",
       "1  There is a door at the end of a silent corrido...       870.0         4.48   \n",
       "2  The unforgettable novel of a childhood in a sl...       324.0         4.27   \n",
       "3  About three things I was absolutely positive.F...       498.0         3.58   \n",
       "4  Trying to make sense of the horrors of World W...       552.0         4.36   \n",
       "\n",
       "   book_rating_count                                 book_title  \\\n",
       "0            5519135                           The Hunger Games   \n",
       "1            2041594  Harry Potter and the Order of the Phoenix   \n",
       "2            3745197                      To Kill a Mockingbird   \n",
       "3            4281268                                   Twilight   \n",
       "4            1485632                             The Book Thief   \n",
       "\n",
       "                                              genres  \\\n",
       "0  youngadult fiction sciencefiction dystopia fan...   \n",
       "1                         fantasy youngadult fiction   \n",
       "2  classics fiction historical historicalfiction ...   \n",
       "3  youngadult fantasy romance paranormal vampires...   \n",
       "4    historical historicalfiction fiction youngadult   \n",
       "\n",
       "                                           image_url  \n",
       "0  https://images.gr-assets.com/books/1447303603l...  \n",
       "1  https://images.gr-assets.com/books/1255614970l...  \n",
       "2  https://images.gr-assets.com/books/1361975680l...  \n",
       "3  https://images.gr-assets.com/books/1361039443l...  \n",
       "4  https://images.gr-assets.com/books/1522157426l...  "
      ]
     },
<<<<<<< HEAD
     "execution_count": 3,
=======
     "execution_count": 41,
>>>>>>> fbb20550b00639d3ce11a9d670e8a17509e51dd5
     "metadata": {},
     "output_type": "execute_result"
    }
   ],
   "source": [
    "df.head()"
   ]
  },
  {
   "cell_type": "code",
<<<<<<< HEAD
   "execution_count": 4,
=======
   "execution_count": 42,
>>>>>>> fbb20550b00639d3ce11a9d670e8a17509e51dd5
   "id": "9600a81c",
   "metadata": {},
   "outputs": [],
   "source": [
    "df[\"book_desc\"] = df[\"book_desc\"].str.lower()"
   ]
  },
  {
   "cell_type": "code",
<<<<<<< HEAD
   "execution_count": 5,
=======
   "execution_count": 43,
>>>>>>> fbb20550b00639d3ce11a9d670e8a17509e51dd5
   "id": "f5f9413a",
   "metadata": {},
   "outputs": [],
   "source": [
    "import nltk\n",
<<<<<<< HEAD
    "#from nltk.stem import SnowballStemmer\n",
    "from nltk.stem.wordnet import WordNetLemmatizer\n",
=======
    "from nltk.stem import SnowballStemmer\n",
>>>>>>> fbb20550b00639d3ce11a9d670e8a17509e51dd5
    "from nltk.corpus import stopwords"
   ]
  },
  {
   "cell_type": "code",
<<<<<<< HEAD
   "execution_count": 6,
=======
   "execution_count": 44,
>>>>>>> fbb20550b00639d3ce11a9d670e8a17509e51dd5
   "id": "ff6f4ab1",
   "metadata": {},
   "outputs": [],
   "source": [
<<<<<<< HEAD
    "#stemmer = SnowballStemmer(\"english\")\n",
    "lemma = WordNetLemmatizer()\n",
    "descriptions = []\n",
    "for i in df[\"book_desc\"]:\n",
    "    i = nltk.word_tokenize(i)\n",
    "    i = [lemma.lemmatize(word) for word in i if not word in set(stopwords.words(\"english\"))]\n",
=======
    "stemmer = SnowballStemmer(\"english\")\n",
    "descriptions = []\n",
    "for i in df[\"book_desc\"]:\n",
    "    i = nltk.word_tokenize(i)\n",
    "    i = [stemmer.stem(word) for word in i if not word in set(stopwords.words(\"english\"))]\n",
>>>>>>> fbb20550b00639d3ce11a9d670e8a17509e51dd5
    "    i = \" \".join(i)\n",
    "    descriptions.append(i)"
   ]
  },
  {
   "cell_type": "code",
<<<<<<< HEAD
   "execution_count": 7,
=======
   "execution_count": 45,
>>>>>>> fbb20550b00639d3ce11a9d670e8a17509e51dd5
   "id": "50614a88",
   "metadata": {},
   "outputs": [],
   "source": [
    "df[\"book_desc_filt\"] = descriptions"
   ]
  },
  {
   "cell_type": "code",
<<<<<<< HEAD
   "execution_count": 8,
=======
   "execution_count": 46,
>>>>>>> fbb20550b00639d3ce11a9d670e8a17509e51dd5
   "id": "3502bf5a",
   "metadata": {},
   "outputs": [],
   "source": [
    "df = df.drop(columns=[\"Unnamed: 0\", \"book_pages\", \"book_rating\", \"book_rating_count\"])"
   ]
  },
  {
   "cell_type": "code",
<<<<<<< HEAD
   "execution_count": 9,
=======
   "execution_count": 47,
>>>>>>> fbb20550b00639d3ce11a9d670e8a17509e51dd5
   "id": "f08a768e",
   "metadata": {},
   "outputs": [],
   "source": [
    "df[\"genres\"] = df[\"genres\"].fillna(\"unknown\")"
   ]
  },
  {
   "cell_type": "code",
<<<<<<< HEAD
   "execution_count": 10,
   "id": "97b5319b",
   "metadata": {},
   "outputs": [],
   "source": [
    "for i in range(df.shape[0]):\n",
    "    df[\"genres\"][i] = (df[\"genres\"][i]+\" \")*int(len(df[\"book_desc_filt\"][i])*0.007)"
   ]
  },
  {
   "cell_type": "code",
   "execution_count": 11,
   "id": "60c1acb5",
   "metadata": {},
   "outputs": [],
   "source": [
    "df[\"combined_features\"] = df[\"genres\"] + df[\"book_desc_filt\"]"
   ]
  },
  {
   "cell_type": "code",
   "execution_count": 12,
=======
   "execution_count": 48,
>>>>>>> fbb20550b00639d3ce11a9d670e8a17509e51dd5
   "id": "ff70307b",
   "metadata": {},
   "outputs": [
    {
     "data": {
      "text/html": [
       "<div>\n",
       "<style scoped>\n",
       "    .dataframe tbody tr th:only-of-type {\n",
       "        vertical-align: middle;\n",
       "    }\n",
       "\n",
       "    .dataframe tbody tr th {\n",
       "        vertical-align: top;\n",
       "    }\n",
       "\n",
       "    .dataframe thead th {\n",
       "        text-align: right;\n",
       "    }\n",
       "</style>\n",
       "<table border=\"1\" class=\"dataframe\">\n",
       "  <thead>\n",
       "    <tr style=\"text-align: right;\">\n",
       "      <th></th>\n",
       "      <th>book_authors</th>\n",
       "      <th>book_desc</th>\n",
       "      <th>book_title</th>\n",
       "      <th>genres</th>\n",
       "      <th>image_url</th>\n",
       "      <th>book_desc_filt</th>\n",
<<<<<<< HEAD
       "      <th>combined_features</th>\n",
=======
>>>>>>> fbb20550b00639d3ce11a9d670e8a17509e51dd5
       "    </tr>\n",
       "  </thead>\n",
       "  <tbody>\n",
       "    <tr>\n",
       "      <th>0</th>\n",
       "      <td>['Suzanne Collins']</td>\n",
       "      <td>winning will make you famous. losing means cer...</td>\n",
       "      <td>The Hunger Games</td>\n",
       "      <td>youngadult fiction sciencefiction dystopia fan...</td>\n",
       "      <td>https://images.gr-assets.com/books/1447303603l...</td>\n",
<<<<<<< HEAD
       "      <td>winning make famous . losing mean certain deat...</td>\n",
       "      <td>youngadult fiction sciencefiction dystopia fan...</td>\n",
=======
       "      <td>win make famous . lose mean certain death.th n...</td>\n",
>>>>>>> fbb20550b00639d3ce11a9d670e8a17509e51dd5
       "    </tr>\n",
       "    <tr>\n",
       "      <th>1</th>\n",
       "      <td>['J.K. Rowling', 'Mary GrandPré']</td>\n",
       "      <td>there is a door at the end of a silent corrido...</td>\n",
       "      <td>Harry Potter and the Order of the Phoenix</td>\n",
<<<<<<< HEAD
       "      <td>fantasy youngadult fiction fantasy youngadult ...</td>\n",
       "      <td>https://images.gr-assets.com/books/1255614970l...</td>\n",
       "      <td>door end silent corridor . ’ haunting harry po...</td>\n",
       "      <td>fantasy youngadult fiction fantasy youngadult ...</td>\n",
=======
       "      <td>fantasy youngadult fiction</td>\n",
       "      <td>https://images.gr-assets.com/books/1255614970l...</td>\n",
       "      <td>door end silent corridor . ’ haunt harri pottt...</td>\n",
>>>>>>> fbb20550b00639d3ce11a9d670e8a17509e51dd5
       "    </tr>\n",
       "    <tr>\n",
       "      <th>2</th>\n",
       "      <td>['Harper Lee']</td>\n",
       "      <td>the unforgettable novel of a childhood in a sl...</td>\n",
       "      <td>To Kill a Mockingbird</td>\n",
       "      <td>classics fiction historical historicalfiction ...</td>\n",
       "      <td>https://images.gr-assets.com/books/1361975680l...</td>\n",
<<<<<<< HEAD
       "      <td>unforgettable novel childhood sleepy southern ...</td>\n",
       "      <td>classics fiction historical historicalfiction ...</td>\n",
=======
       "      <td>unforgett novel childhood sleepi southern town...</td>\n",
>>>>>>> fbb20550b00639d3ce11a9d670e8a17509e51dd5
       "    </tr>\n",
       "    <tr>\n",
       "      <th>3</th>\n",
       "      <td>['Stephenie Meyer']</td>\n",
       "      <td>about three things i was absolutely positive.f...</td>\n",
       "      <td>Twilight</td>\n",
       "      <td>youngadult fantasy romance paranormal vampires...</td>\n",
       "      <td>https://images.gr-assets.com/books/1361039443l...</td>\n",
<<<<<<< HEAD
       "      <td>three thing absolutely positive.first , edward...</td>\n",
       "      <td>youngadult fantasy romance paranormal vampires...</td>\n",
=======
       "      <td>three thing absolut positive.first , edward va...</td>\n",
>>>>>>> fbb20550b00639d3ce11a9d670e8a17509e51dd5
       "    </tr>\n",
       "    <tr>\n",
       "      <th>4</th>\n",
       "      <td>['Markus Zusak']</td>\n",
       "      <td>trying to make sense of the horrors of world w...</td>\n",
       "      <td>The Book Thief</td>\n",
       "      <td>historical historicalfiction fiction youngadult</td>\n",
       "      <td>https://images.gr-assets.com/books/1522157426l...</td>\n",
<<<<<<< HEAD
       "      <td>trying make sense horror world war ii , death ...</td>\n",
       "      <td>historical historicalfiction fiction youngadul...</td>\n",
=======
       "      <td>tri make sens horror world war ii , death rela...</td>\n",
>>>>>>> fbb20550b00639d3ce11a9d670e8a17509e51dd5
       "    </tr>\n",
       "  </tbody>\n",
       "</table>\n",
       "</div>"
      ],
      "text/plain": [
       "                        book_authors  \\\n",
       "0                ['Suzanne Collins']   \n",
       "1  ['J.K. Rowling', 'Mary GrandPré']   \n",
       "2                     ['Harper Lee']   \n",
       "3                ['Stephenie Meyer']   \n",
       "4                   ['Markus Zusak']   \n",
       "\n",
       "                                           book_desc  \\\n",
       "0  winning will make you famous. losing means cer...   \n",
       "1  there is a door at the end of a silent corrido...   \n",
       "2  the unforgettable novel of a childhood in a sl...   \n",
       "3  about three things i was absolutely positive.f...   \n",
       "4  trying to make sense of the horrors of world w...   \n",
       "\n",
       "                                  book_title  \\\n",
       "0                           The Hunger Games   \n",
       "1  Harry Potter and the Order of the Phoenix   \n",
       "2                      To Kill a Mockingbird   \n",
       "3                                   Twilight   \n",
       "4                             The Book Thief   \n",
       "\n",
       "                                              genres  \\\n",
       "0  youngadult fiction sciencefiction dystopia fan...   \n",
<<<<<<< HEAD
       "1  fantasy youngadult fiction fantasy youngadult ...   \n",
       "2  classics fiction historical historicalfiction ...   \n",
       "3  youngadult fantasy romance paranormal vampires...   \n",
       "4   historical historicalfiction fiction youngadult    \n",
=======
       "1                         fantasy youngadult fiction   \n",
       "2  classics fiction historical historicalfiction ...   \n",
       "3  youngadult fantasy romance paranormal vampires...   \n",
       "4    historical historicalfiction fiction youngadult   \n",
>>>>>>> fbb20550b00639d3ce11a9d670e8a17509e51dd5
       "\n",
       "                                           image_url  \\\n",
       "0  https://images.gr-assets.com/books/1447303603l...   \n",
       "1  https://images.gr-assets.com/books/1255614970l...   \n",
       "2  https://images.gr-assets.com/books/1361975680l...   \n",
       "3  https://images.gr-assets.com/books/1361039443l...   \n",
       "4  https://images.gr-assets.com/books/1522157426l...   \n",
       "\n",
<<<<<<< HEAD
       "                                      book_desc_filt  \\\n",
       "0  winning make famous . losing mean certain deat...   \n",
       "1  door end silent corridor . ’ haunting harry po...   \n",
       "2  unforgettable novel childhood sleepy southern ...   \n",
       "3  three thing absolutely positive.first , edward...   \n",
       "4  trying make sense horror world war ii , death ...   \n",
       "\n",
       "                                   combined_features  \n",
       "0  youngadult fiction sciencefiction dystopia fan...  \n",
       "1  fantasy youngadult fiction fantasy youngadult ...  \n",
       "2  classics fiction historical historicalfiction ...  \n",
       "3  youngadult fantasy romance paranormal vampires...  \n",
       "4  historical historicalfiction fiction youngadul...  "
      ]
     },
     "execution_count": 12,
=======
       "                                      book_desc_filt  \n",
       "0  win make famous . lose mean certain death.th n...  \n",
       "1  door end silent corridor . ’ haunt harri pottt...  \n",
       "2  unforgett novel childhood sleepi southern town...  \n",
       "3  three thing absolut positive.first , edward va...  \n",
       "4  tri make sens horror world war ii , death rela...  "
      ]
     },
     "execution_count": 48,
>>>>>>> fbb20550b00639d3ce11a9d670e8a17509e51dd5
     "metadata": {},
     "output_type": "execute_result"
    }
   ],
   "source": [
    "df.head()"
   ]
  },
  {
   "cell_type": "code",
<<<<<<< HEAD
   "execution_count": 13,
=======
   "execution_count": 49,
>>>>>>> fbb20550b00639d3ce11a9d670e8a17509e51dd5
   "id": "7254cc74",
   "metadata": {},
   "outputs": [],
   "source": [
    "df.to_csv(\"data/the_data.csv\")"
   ]
  },
  {
   "cell_type": "code",
<<<<<<< HEAD
   "execution_count": 15,
   "id": "91d17eca",
   "metadata": {},
   "outputs": [
    {
     "data": {
      "text/plain": [
       "\"youngadult fiction sciencefiction dystopia fantasy sciencefiction youngadult fiction sciencefiction dystopia fantasy sciencefiction youngadult fiction sciencefiction dystopia fantasy sciencefiction youngadult fiction sciencefiction dystopia fantasy sciencefiction youngadult fiction sciencefiction dystopia fantasy sciencefiction winning make famous . losing mean certain death.the nation panem , formed post-apocalyptic north america , country consists wealthy capitol region surrounded 12 poorer district . early history , rebellion led 13th district capitol resulted destruction creation annual televised event known hunger game . punishment , reminder power grace capitol , district must yield one boy one girl age 12 18 lottery system participate game . 'tributes ' chosen annual reaping forced fight death , leaving one survivor claim victory.when 16-year-old katniss 's young sister , prim , selected district 12 's female representative , katniss volunteer take place . male counterpart peeta , pitted bigger , stronger representative , trained whole life . , see death sentence . katniss close death . , survival second nature .\""
      ]
     },
     "execution_count": 15,
     "metadata": {},
     "output_type": "execute_result"
    }
   ],
   "source": []
  },
  {
   "cell_type": "markdown",
   "id": "1f0deb5b",
   "metadata": {},
=======
   "execution_count": null,
   "id": "91d17eca",
   "metadata": {},
   "outputs": [],
>>>>>>> fbb20550b00639d3ce11a9d670e8a17509e51dd5
   "source": []
  },
  {
   "cell_type": "code",
   "execution_count": null,
<<<<<<< HEAD
   "id": "cd7f78c9",
=======
   "id": "223d7998",
>>>>>>> fbb20550b00639d3ce11a9d670e8a17509e51dd5
   "metadata": {},
   "outputs": [],
   "source": []
  }
 ],
 "metadata": {
  "kernelspec": {
   "display_name": "Python 3 (ipykernel)",
   "language": "python",
   "name": "python3"
  },
  "language_info": {
   "codemirror_mode": {
    "name": "ipython",
    "version": 3
   },
   "file_extension": ".py",
   "mimetype": "text/x-python",
   "name": "python",
   "nbconvert_exporter": "python",
   "pygments_lexer": "ipython3",
   "version": "3.9.6"
  }
 },
 "nbformat": 4,
 "nbformat_minor": 5
}
